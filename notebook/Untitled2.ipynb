{
 "cells": [
  {
   "cell_type": "code",
   "execution_count": 1,
   "id": "c6a8b009",
   "metadata": {},
   "outputs": [],
   "source": [
    "import pandas as pd"
   ]
  },
  {
   "cell_type": "markdown",
   "id": "3c75966b",
   "metadata": {},
   "source": [
    "## Data Validation"
   ]
  },
  {
   "cell_type": "code",
   "execution_count": 2,
   "id": "0146242f",
   "metadata": {},
   "outputs": [],
   "source": [
    "train_df = pd.read_csv(r\"D:\\machine_learning_project\\wheat_dir\\artifact\\data_ingestion\\2022-09-06-15-12-46\\ingested_data\\train\\wheat.csv\")"
   ]
  },
  {
   "cell_type": "code",
   "execution_count": 3,
   "id": "5c604025",
   "metadata": {},
   "outputs": [
    {
     "data": {
      "text/html": [
       "<div>\n",
       "<style scoped>\n",
       "    .dataframe tbody tr th:only-of-type {\n",
       "        vertical-align: middle;\n",
       "    }\n",
       "\n",
       "    .dataframe tbody tr th {\n",
       "        vertical-align: top;\n",
       "    }\n",
       "\n",
       "    .dataframe thead th {\n",
       "        text-align: right;\n",
       "    }\n",
       "</style>\n",
       "<table border=\"1\" class=\"dataframe\">\n",
       "  <thead>\n",
       "    <tr style=\"text-align: right;\">\n",
       "      <th></th>\n",
       "      <th>Area</th>\n",
       "      <th>Perimeter</th>\n",
       "      <th>Compactness</th>\n",
       "      <th>Kernel.Length</th>\n",
       "      <th>Kernel.Width</th>\n",
       "      <th>Asymmetry.Coeff</th>\n",
       "      <th>Kernel.Groove</th>\n",
       "      <th>Type</th>\n",
       "    </tr>\n",
       "  </thead>\n",
       "  <tbody>\n",
       "    <tr>\n",
       "      <th>0</th>\n",
       "      <td>11.87</td>\n",
       "      <td>13.02</td>\n",
       "      <td>0.8795</td>\n",
       "      <td>5.132</td>\n",
       "      <td>2.953</td>\n",
       "      <td>3.597</td>\n",
       "      <td>5.132</td>\n",
       "      <td>3</td>\n",
       "    </tr>\n",
       "    <tr>\n",
       "      <th>1</th>\n",
       "      <td>13.54</td>\n",
       "      <td>13.85</td>\n",
       "      <td>0.8871</td>\n",
       "      <td>5.348</td>\n",
       "      <td>3.156</td>\n",
       "      <td>2.587</td>\n",
       "      <td>5.178</td>\n",
       "      <td>1</td>\n",
       "    </tr>\n",
       "    <tr>\n",
       "      <th>2</th>\n",
       "      <td>16.19</td>\n",
       "      <td>15.16</td>\n",
       "      <td>0.8849</td>\n",
       "      <td>5.833</td>\n",
       "      <td>3.421</td>\n",
       "      <td>0.903</td>\n",
       "      <td>5.307</td>\n",
       "      <td>1</td>\n",
       "    </tr>\n",
       "    <tr>\n",
       "      <th>3</th>\n",
       "      <td>12.70</td>\n",
       "      <td>13.71</td>\n",
       "      <td>0.8491</td>\n",
       "      <td>5.386</td>\n",
       "      <td>2.911</td>\n",
       "      <td>3.260</td>\n",
       "      <td>5.316</td>\n",
       "      <td>3</td>\n",
       "    </tr>\n",
       "    <tr>\n",
       "      <th>4</th>\n",
       "      <td>12.49</td>\n",
       "      <td>13.46</td>\n",
       "      <td>0.8658</td>\n",
       "      <td>5.267</td>\n",
       "      <td>2.967</td>\n",
       "      <td>4.421</td>\n",
       "      <td>5.002</td>\n",
       "      <td>3</td>\n",
       "    </tr>\n",
       "  </tbody>\n",
       "</table>\n",
       "</div>"
      ],
      "text/plain": [
       "    Area  Perimeter  Compactness  Kernel.Length  Kernel.Width  \\\n",
       "0  11.87      13.02       0.8795          5.132         2.953   \n",
       "1  13.54      13.85       0.8871          5.348         3.156   \n",
       "2  16.19      15.16       0.8849          5.833         3.421   \n",
       "3  12.70      13.71       0.8491          5.386         2.911   \n",
       "4  12.49      13.46       0.8658          5.267         2.967   \n",
       "\n",
       "   Asymmetry.Coeff  Kernel.Groove  Type  \n",
       "0            3.597          5.132     3  \n",
       "1            2.587          5.178     1  \n",
       "2            0.903          5.307     1  \n",
       "3            3.260          5.316     3  \n",
       "4            4.421          5.002     3  "
      ]
     },
     "execution_count": 3,
     "metadata": {},
     "output_type": "execute_result"
    }
   ],
   "source": [
    "train_df.head()"
   ]
  },
  {
   "cell_type": "code",
   "execution_count": 4,
   "id": "4c353fa1",
   "metadata": {},
   "outputs": [
    {
     "data": {
      "text/plain": [
       "<bound method NDFrame.describe of       Area  Perimeter  Compactness  Kernel.Length  Kernel.Width  \\\n",
       "0    11.87      13.02       0.8795          5.132         2.953   \n",
       "1    13.54      13.85       0.8871          5.348         3.156   \n",
       "2    16.19      15.16       0.8849          5.833         3.421   \n",
       "3    12.70      13.71       0.8491          5.386         2.911   \n",
       "4    12.49      13.46       0.8658          5.267         2.967   \n",
       "..     ...        ...          ...            ...           ...   \n",
       "154  19.38      16.72       0.8716          6.303         3.791   \n",
       "155  14.59      14.28       0.8993          5.351         3.333   \n",
       "156  19.31      16.59       0.8815          6.341         3.810   \n",
       "157  11.23      12.82       0.8594          5.089         2.821   \n",
       "158  17.63      15.86       0.8800          6.033         3.573   \n",
       "\n",
       "     Asymmetry.Coeff  Kernel.Groove  Type  \n",
       "0              3.597          5.132     3  \n",
       "1              2.587          5.178     1  \n",
       "2              0.903          5.307     1  \n",
       "3              3.260          5.316     3  \n",
       "4              4.421          5.002     3  \n",
       "..               ...            ...   ...  \n",
       "154            3.678          5.965     2  \n",
       "155            4.185          4.781     1  \n",
       "156            3.477          6.238     2  \n",
       "157            7.524          4.957     3  \n",
       "158            3.747          5.929     2  \n",
       "\n",
       "[159 rows x 8 columns]>"
      ]
     },
     "execution_count": 4,
     "metadata": {},
     "output_type": "execute_result"
    }
   ],
   "source": [
    "train_df.describe"
   ]
  },
  {
   "cell_type": "markdown",
   "id": "d019c46a",
   "metadata": {},
   "source": [
    "### Checking for skewness"
   ]
  },
  {
   "cell_type": "code",
   "execution_count": 5,
   "id": "8e939e0a",
   "metadata": {},
   "outputs": [],
   "source": [
    "import seaborn as sns"
   ]
  },
  {
   "cell_type": "code",
   "execution_count": 6,
   "id": "7dbe54ea",
   "metadata": {},
   "outputs": [
    {
     "data": {
      "text/plain": [
       "Area               0.450704\n",
       "Perimeter          0.432150\n",
       "Compactness       -0.586468\n",
       "Kernel.Length      0.545287\n",
       "Kernel.Width       0.174267\n",
       "Asymmetry.Coeff    0.370468\n",
       "Kernel.Groove      0.604246\n",
       "Type               0.047477\n",
       "dtype: float64"
      ]
     },
     "execution_count": 6,
     "metadata": {},
     "output_type": "execute_result"
    }
   ],
   "source": [
    "train_df.skew(axis=0)"
   ]
  },
  {
   "cell_type": "markdown",
   "id": "651e9beb",
   "metadata": {},
   "source": [
    "As the values are within the permitted range we do not need any transformation. We will only apply Log Transformation on the Compactness column."
   ]
  },
  {
   "cell_type": "code",
   "execution_count": 7,
   "id": "839f7264",
   "metadata": {},
   "outputs": [
    {
     "data": {
      "text/plain": [
       "<AxesSubplot:xlabel='Compactness', ylabel='Count'>"
      ]
     },
     "execution_count": 7,
     "metadata": {},
     "output_type": "execute_result"
    },
    {
     "data": {
      "image/png": "[encoded data removed]",
      "text/plain": [
       "<Figure size 640x480 with 1 Axes>"
      ]
     },
     "metadata": {},
     "output_type": "display_data"
    }
   ],
   "source": [
    "import seaborn as sns\n",
    "sns.histplot(train_df[\"Compactness\"])"
   ]
  },
  {
   "cell_type": "markdown",
   "id": "24a71742",
   "metadata": {},
   "source": [
    "### Applying Log transform "
   ]
  },
  {
   "cell_type": "code",
   "execution_count": 8,
   "id": "88d35f09",
   "metadata": {},
   "outputs": [],
   "source": [
    "import numpy as np\n",
    "train_df[\"Compactness\"] = np.log(train_df[\"Compactness\"])"
   ]
  },
  {
   "cell_type": "code",
   "execution_count": 9,
   "id": "92966fdd",
   "metadata": {},
   "outputs": [
    {
     "data": {
      "text/plain": [
       "Area               0.450704\n",
       "Perimeter          0.432150\n",
       "Compactness       -0.656005\n",
       "Kernel.Length      0.545287\n",
       "Kernel.Width       0.174267\n",
       "Asymmetry.Coeff    0.370468\n",
       "Kernel.Groove      0.604246\n",
       "Type               0.047477\n",
       "dtype: float64"
      ]
     },
     "execution_count": 9,
     "metadata": {},
     "output_type": "execute_result"
    }
   ],
   "source": [
    "train_df.skew(axis=0)"
   ]
  },
  {
   "cell_type": "markdown",
   "id": "bbc41318",
   "metadata": {},
   "source": [
    "### Data Validation"
   ]
  },
  {
   "cell_type": "code",
   "execution_count": 10,
   "id": "a09ba5ae",
   "metadata": {},
   "outputs": [],
   "source": [
    "# Check number of columns\n",
    "from wheat.util.util import read_yaml_file"
   ]
  },
  {
   "cell_type": "code",
   "execution_count": 11,
   "id": "4e8ae98d",
   "metadata": {},
   "outputs": [],
   "source": [
    "schema_file = read_yaml_file(\"D:\\machine_learning_project\\config\\schema.yaml\")"
   ]
  },
  {
   "cell_type": "code",
   "execution_count": 12,
   "id": "163803d9",
   "metadata": {},
   "outputs": [
    {
     "data": {
      "text/plain": [
       "8"
      ]
     },
     "execution_count": 12,
     "metadata": {},
     "output_type": "execute_result"
    }
   ],
   "source": [
    "len(schema_file['columns'])"
   ]
  },
  {
   "cell_type": "code",
   "execution_count": 13,
   "id": "6808c485",
   "metadata": {},
   "outputs": [
    {
     "data": {
      "text/plain": [
       "8"
      ]
     },
     "execution_count": 13,
     "metadata": {},
     "output_type": "execute_result"
    }
   ],
   "source": [
    "len(train_df.columns)"
   ]
  },
  {
   "cell_type": "code",
   "execution_count": null,
   "id": "ddf92dcc",
   "metadata": {},
   "outputs": [],
   "source": []
  },
  {
   "cell_type": "code",
   "execution_count": null,
   "id": "2345a487",
   "metadata": {},
   "outputs": [],
   "source": []
  },
  {
   "cell_type": "code",
   "execution_count": 22,
   "id": "edfa2756",
   "metadata": {},
   "outputs": [],
   "source": [
    "def validate_dataset_schema(self)->bool:\n",
    "    try:\n",
    "        validation_status = False\n",
    "        if train_df.columns != schema_file['columns']:\n",
    "            validation_status = False\n",
    "            return validation_status\n",
    "        for i in range(len(schema_file['columns'])):\n",
    "            if list(schema_file['columns'].keys())[i] == train_df.columns[i]:\n",
    "                validation_status = True\n",
    "            else:\n",
    "                validation_status = False\n",
    "                return validation_status\n",
    "        return validation_status\n",
    "    except Exception as e:\n",
    "        raise WheatException(e,sys) from e"
   ]
  },
  {
   "cell_type": "code",
   "execution_count": 23,
   "id": "de666f08",
   "metadata": {},
   "outputs": [
    {
     "name": "stdout",
     "output_type": "stream",
     "text": [
      "Area\n",
      "Perimeter\n",
      "Compactness\n",
      "Kernel.Length\n",
      "Kernel.Width\n",
      "Asymmetry.Coeff\n",
      "Kernel.Groove\n",
      "Type\n"
     ]
    }
   ],
   "source": [
    "for columns in train_df.columns:\n",
    "    print(columns)"
   ]
  },
  {
   "cell_type": "code",
   "execution_count": 24,
   "id": "6dfdf80f",
   "metadata": {},
   "outputs": [
    {
     "data": {
      "text/plain": [
       "['Area',\n",
       " 'Perimeter',\n",
       " 'Compactness',\n",
       " 'Kernel.Length',\n",
       " 'Kernel.Width',\n",
       " 'Asymmetry.Coeff',\n",
       " 'Kernel.Groove',\n",
       " 'Type']"
      ]
     },
     "execution_count": 24,
     "metadata": {},
     "output_type": "execute_result"
    }
   ],
   "source": [
    "list(schema_file['columns'].keys())"
   ]
  },
  {
   "cell_type": "code",
   "execution_count": 21,
   "id": "a6fdc951",
   "metadata": {},
   "outputs": [
    {
     "name": "stdout",
     "output_type": "stream",
     "text": [
      "True\n"
     ]
    }
   ],
   "source": [
    "for i in range(len(schema_file['columns'])):\n",
    "    if list(schema_file['columns'].keys())[i] == train_df.columns[i]:\n",
    "        validation_status = True\n",
    "    else:\n",
    "        validation_status = False\n",
    "#         return validation_status\n",
    "print(validation_status)\n",
    "    "
   ]
  },
  {
   "cell_type": "code",
   "execution_count": 25,
   "id": "deb51ef3",
   "metadata": {},
   "outputs": [
    {
     "data": {
      "text/plain": [
       "array([3, 1, 2], dtype=int64)"
      ]
     },
     "execution_count": 25,
     "metadata": {},
     "output_type": "execute_result"
    }
   ],
   "source": [
    "train_df['Type'].unique()"
   ]
  },
  {
   "cell_type": "code",
   "execution_count": null,
   "id": "5e3b2a30",
   "metadata": {},
   "outputs": [],
   "source": []
  }
 ],
 "metadata": {
  "kernelspec": {
   "display_name": "Python 3 (ipykernel)",
   "language": "python",
   "name": "python3"
  },
  "language_info": {
   "codemirror_mode": {
    "name": "ipython",
    "version": 3
   },
   "file_extension": ".py",
   "mimetype": "text/x-python",
   "name": "python",
   "nbconvert_exporter": "python",
   "pygments_lexer": "ipython3",
   "version": "3.7.13"
  }
 },
 "nbformat": 4,
 "nbformat_minor": 5
}
