{
 "cells": [
  {
   "cell_type": "code",
   "execution_count": 1,
   "id": "4162f7cd",
   "metadata": {
    "_cell_guid": "b1076dfc-b9ad-4769-8c92-a6c4dae69d19",
    "_uuid": "8f2839f25d086af736a60e9eeb907d3b93b6e0e5",
    "execution": {
     "iopub.execute_input": "2022-04-23T02:02:00.848081Z",
     "iopub.status.busy": "2022-04-23T02:02:00.847530Z",
     "iopub.status.idle": "2022-04-23T02:02:00.864473Z",
     "shell.execute_reply": "2022-04-23T02:02:00.863521Z"
    },
    "papermill": {
     "duration": 0.05691,
     "end_time": "2022-04-23T02:02:00.866620",
     "exception": false,
     "start_time": "2022-04-23T02:02:00.809710",
     "status": "completed"
    },
    "tags": []
   },
   "outputs": [
    {
     "name": "stdout",
     "output_type": "stream",
     "text": [
      "/kaggle/input/wheat-seedsuci/seeds.csv\n"
     ]
    }
   ],
   "source": [
    "# This Python 3 environment comes with many helpful analytics libraries installed\n",
    "# It is defined by the kaggle/python Docker image: https://github.com/kaggle/docker-python\n",
    "# For example, here's several helpful packages to load\n",
    "\n",
    "import numpy as np # linear algebra\n",
    "import pandas as pd # data processing, CSV file I/O (e.g. pd.read_csv)\n",
    "\n",
    "# Input data files are available in the read-only \"../input/\" directory\n",
    "# For example, running this (by clicking run or pressing Shift+Enter) will list all files under the input directory\n",
    "\n",
    "import os\n",
    "for dirname, _, filenames in os.walk('/kaggle/input'):\n",
    "    for filename in filenames:\n",
    "        print(os.path.join(dirname, filename))\n",
    "\n",
    "# You can write up to 20GB to the current directory (/kaggle/working/) that gets preserved as output when you create a version using \"Save & Run All\" \n",
    "# You can also write temporary files to /kaggle/temp/, but they won't be saved outside of the current session"
   ]
  },
  {
   "cell_type": "code",
   "execution_count": 2,
   "id": "1fc29274",
   "metadata": {
    "execution": {
     "iopub.execute_input": "2022-04-23T02:02:00.940005Z",
     "iopub.status.busy": "2022-04-23T02:02:00.939446Z",
     "iopub.status.idle": "2022-04-23T02:02:02.422076Z",
     "shell.execute_reply": "2022-04-23T02:02:02.420990Z"
    },
    "papermill": {
     "duration": 1.521795,
     "end_time": "2022-04-23T02:02:02.424668",
     "exception": false,
     "start_time": "2022-04-23T02:02:00.902873",
     "status": "completed"
    },
    "tags": []
   },
   "outputs": [],
   "source": [
    "import pandas as pd\n",
    "import matplotlib.pyplot as plt\n",
    "from sklearn import model_selection\n",
    "from sklearn.tree import DecisionTreeClassifier\n",
    "from sklearn.svm import SVC\n",
    "from sklearn.ensemble import RandomForestClassifier, GradientBoostingClassifier\n",
    "import numpy as np\n",
    "from sklearn.model_selection import train_test_split\n",
    "import matplotlib.pyplot as plt\n",
    "import seaborn as sns\n",
    "from sklearn.metrics import accuracy_score, classification_report, confusion_matrix"
   ]
  },
  {
   "cell_type": "code",
   "execution_count": 3,
   "id": "8c525e22",
   "metadata": {
    "execution": {
     "iopub.execute_input": "2022-04-23T02:02:02.498127Z",
     "iopub.status.busy": "2022-04-23T02:02:02.497825Z",
     "iopub.status.idle": "2022-04-23T02:02:02.533782Z",
     "shell.execute_reply": "2022-04-23T02:02:02.532930Z"
    },
    "papermill": {
     "duration": 0.075284,
     "end_time": "2022-04-23T02:02:02.535898",
     "exception": false,
     "start_time": "2022-04-23T02:02:02.460614",
     "status": "completed"
    },
    "tags": []
   },
   "outputs": [
    {
     "data": {
      "text/html": [
       "<div>\n",
       "<style scoped>\n",
       "    .dataframe tbody tr th:only-of-type {\n",
       "        vertical-align: middle;\n",
       "    }\n",
       "\n",
       "    .dataframe tbody tr th {\n",
       "        vertical-align: top;\n",
       "    }\n",
       "\n",
       "    .dataframe thead th {\n",
       "        text-align: right;\n",
       "    }\n",
       "</style>\n",
       "<table border=\"1\" class=\"dataframe\">\n",
       "  <thead>\n",
       "    <tr style=\"text-align: right;\">\n",
       "      <th></th>\n",
       "      <th>Area</th>\n",
       "      <th>Perimeter</th>\n",
       "      <th>Compactness</th>\n",
       "      <th>Kernel.Length</th>\n",
       "      <th>Kernel.Width</th>\n",
       "      <th>Asymmetry.Coeff</th>\n",
       "      <th>Kernel.Groove</th>\n",
       "      <th>Type</th>\n",
       "    </tr>\n",
       "  </thead>\n",
       "  <tbody>\n",
       "    <tr>\n",
       "      <th>0</th>\n",
       "      <td>15.26</td>\n",
       "      <td>14.84</td>\n",
       "      <td>0.8710</td>\n",
       "      <td>5.763</td>\n",
       "      <td>3.312</td>\n",
       "      <td>2.221</td>\n",
       "      <td>5.220</td>\n",
       "      <td>1</td>\n",
       "    </tr>\n",
       "    <tr>\n",
       "      <th>1</th>\n",
       "      <td>14.88</td>\n",
       "      <td>14.57</td>\n",
       "      <td>0.8811</td>\n",
       "      <td>5.554</td>\n",
       "      <td>3.333</td>\n",
       "      <td>1.018</td>\n",
       "      <td>4.956</td>\n",
       "      <td>1</td>\n",
       "    </tr>\n",
       "    <tr>\n",
       "      <th>2</th>\n",
       "      <td>14.29</td>\n",
       "      <td>14.09</td>\n",
       "      <td>0.9050</td>\n",
       "      <td>5.291</td>\n",
       "      <td>3.337</td>\n",
       "      <td>2.699</td>\n",
       "      <td>4.825</td>\n",
       "      <td>1</td>\n",
       "    </tr>\n",
       "    <tr>\n",
       "      <th>3</th>\n",
       "      <td>13.84</td>\n",
       "      <td>13.94</td>\n",
       "      <td>0.8955</td>\n",
       "      <td>5.324</td>\n",
       "      <td>3.379</td>\n",
       "      <td>2.259</td>\n",
       "      <td>4.805</td>\n",
       "      <td>1</td>\n",
       "    </tr>\n",
       "    <tr>\n",
       "      <th>4</th>\n",
       "      <td>16.14</td>\n",
       "      <td>14.99</td>\n",
       "      <td>0.9034</td>\n",
       "      <td>5.658</td>\n",
       "      <td>3.562</td>\n",
       "      <td>1.355</td>\n",
       "      <td>5.175</td>\n",
       "      <td>1</td>\n",
       "    </tr>\n",
       "  </tbody>\n",
       "</table>\n",
       "</div>"
      ],
      "text/plain": [
       "    Area  Perimeter  Compactness  Kernel.Length  Kernel.Width  \\\n",
       "0  15.26      14.84       0.8710          5.763         3.312   \n",
       "1  14.88      14.57       0.8811          5.554         3.333   \n",
       "2  14.29      14.09       0.9050          5.291         3.337   \n",
       "3  13.84      13.94       0.8955          5.324         3.379   \n",
       "4  16.14      14.99       0.9034          5.658         3.562   \n",
       "\n",
       "   Asymmetry.Coeff  Kernel.Groove  Type  \n",
       "0            2.221          5.220     1  \n",
       "1            1.018          4.956     1  \n",
       "2            2.699          4.825     1  \n",
       "3            2.259          4.805     1  \n",
       "4            1.355          5.175     1  "
      ]
     },
     "execution_count": 3,
     "metadata": {},
     "output_type": "execute_result"
    }
   ],
   "source": [
    "import warnings \n",
    "warnings.filterwarnings('ignore')\n",
    "df = pd.read_csv('/kaggle/input/wheat-seedsuci/seeds.csv')\n",
    "df.head()\n",
    "# type -> label"
   ]
  },
  {
   "cell_type": "code",
   "execution_count": 4,
   "id": "88504bce",
   "metadata": {
    "execution": {
     "iopub.execute_input": "2022-04-23T02:02:02.610032Z",
     "iopub.status.busy": "2022-04-23T02:02:02.609735Z",
     "iopub.status.idle": "2022-04-23T02:02:02.655462Z",
     "shell.execute_reply": "2022-04-23T02:02:02.654887Z"
    },
    "papermill": {
     "duration": 0.085189,
     "end_time": "2022-04-23T02:02:02.657235",
     "exception": false,
     "start_time": "2022-04-23T02:02:02.572046",
     "status": "completed"
    },
    "tags": []
   },
   "outputs": [
    {
     "data": {
      "text/html": [
       "<div>\n",
       "<style scoped>\n",
       "    .dataframe tbody tr th:only-of-type {\n",
       "        vertical-align: middle;\n",
       "    }\n",
       "\n",
       "    .dataframe tbody tr th {\n",
       "        vertical-align: top;\n",
       "    }\n",
       "\n",
       "    .dataframe thead th {\n",
       "        text-align: right;\n",
       "    }\n",
       "</style>\n",
       "<table border=\"1\" class=\"dataframe\">\n",
       "  <thead>\n",
       "    <tr style=\"text-align: right;\">\n",
       "      <th></th>\n",
       "      <th>Area</th>\n",
       "      <th>Perimeter</th>\n",
       "      <th>Compactness</th>\n",
       "      <th>Kernel.Length</th>\n",
       "      <th>Kernel.Width</th>\n",
       "      <th>Asymmetry.Coeff</th>\n",
       "      <th>Kernel.Groove</th>\n",
       "      <th>Type</th>\n",
       "    </tr>\n",
       "  </thead>\n",
       "  <tbody>\n",
       "    <tr>\n",
       "      <th>count</th>\n",
       "      <td>199.000000</td>\n",
       "      <td>199.000000</td>\n",
       "      <td>199.000000</td>\n",
       "      <td>199.000000</td>\n",
       "      <td>199.000000</td>\n",
       "      <td>199.000000</td>\n",
       "      <td>199.000000</td>\n",
       "      <td>199.000000</td>\n",
       "    </tr>\n",
       "    <tr>\n",
       "      <th>mean</th>\n",
       "      <td>14.918744</td>\n",
       "      <td>14.595829</td>\n",
       "      <td>0.870811</td>\n",
       "      <td>5.643151</td>\n",
       "      <td>3.265533</td>\n",
       "      <td>3.699217</td>\n",
       "      <td>5.420653</td>\n",
       "      <td>1.994975</td>\n",
       "    </tr>\n",
       "    <tr>\n",
       "      <th>std</th>\n",
       "      <td>2.919976</td>\n",
       "      <td>1.310445</td>\n",
       "      <td>0.023320</td>\n",
       "      <td>0.443593</td>\n",
       "      <td>0.378322</td>\n",
       "      <td>1.471102</td>\n",
       "      <td>0.492718</td>\n",
       "      <td>0.813382</td>\n",
       "    </tr>\n",
       "    <tr>\n",
       "      <th>min</th>\n",
       "      <td>10.590000</td>\n",
       "      <td>12.410000</td>\n",
       "      <td>0.808100</td>\n",
       "      <td>4.899000</td>\n",
       "      <td>2.630000</td>\n",
       "      <td>0.765100</td>\n",
       "      <td>4.519000</td>\n",
       "      <td>1.000000</td>\n",
       "    </tr>\n",
       "    <tr>\n",
       "      <th>25%</th>\n",
       "      <td>12.330000</td>\n",
       "      <td>13.470000</td>\n",
       "      <td>0.857100</td>\n",
       "      <td>5.267000</td>\n",
       "      <td>2.954500</td>\n",
       "      <td>2.570000</td>\n",
       "      <td>5.046000</td>\n",
       "      <td>1.000000</td>\n",
       "    </tr>\n",
       "    <tr>\n",
       "      <th>50%</th>\n",
       "      <td>14.430000</td>\n",
       "      <td>14.370000</td>\n",
       "      <td>0.873400</td>\n",
       "      <td>5.541000</td>\n",
       "      <td>3.245000</td>\n",
       "      <td>3.631000</td>\n",
       "      <td>5.228000</td>\n",
       "      <td>2.000000</td>\n",
       "    </tr>\n",
       "    <tr>\n",
       "      <th>75%</th>\n",
       "      <td>17.455000</td>\n",
       "      <td>15.805000</td>\n",
       "      <td>0.886800</td>\n",
       "      <td>6.002000</td>\n",
       "      <td>3.564500</td>\n",
       "      <td>4.799000</td>\n",
       "      <td>5.879000</td>\n",
       "      <td>3.000000</td>\n",
       "    </tr>\n",
       "    <tr>\n",
       "      <th>max</th>\n",
       "      <td>21.180000</td>\n",
       "      <td>17.250000</td>\n",
       "      <td>0.918300</td>\n",
       "      <td>6.675000</td>\n",
       "      <td>4.033000</td>\n",
       "      <td>8.315000</td>\n",
       "      <td>6.550000</td>\n",
       "      <td>3.000000</td>\n",
       "    </tr>\n",
       "  </tbody>\n",
       "</table>\n",
       "</div>"
      ],
      "text/plain": [
       "             Area   Perimeter  Compactness  Kernel.Length  Kernel.Width  \\\n",
       "count  199.000000  199.000000   199.000000     199.000000    199.000000   \n",
       "mean    14.918744   14.595829     0.870811       5.643151      3.265533   \n",
       "std      2.919976    1.310445     0.023320       0.443593      0.378322   \n",
       "min     10.590000   12.410000     0.808100       4.899000      2.630000   \n",
       "25%     12.330000   13.470000     0.857100       5.267000      2.954500   \n",
       "50%     14.430000   14.370000     0.873400       5.541000      3.245000   \n",
       "75%     17.455000   15.805000     0.886800       6.002000      3.564500   \n",
       "max     21.180000   17.250000     0.918300       6.675000      4.033000   \n",
       "\n",
       "       Asymmetry.Coeff  Kernel.Groove        Type  \n",
       "count       199.000000     199.000000  199.000000  \n",
       "mean          3.699217       5.420653    1.994975  \n",
       "std           1.471102       0.492718    0.813382  \n",
       "min           0.765100       4.519000    1.000000  \n",
       "25%           2.570000       5.046000    1.000000  \n",
       "50%           3.631000       5.228000    2.000000  \n",
       "75%           4.799000       5.879000    3.000000  \n",
       "max           8.315000       6.550000    3.000000  "
      ]
     },
     "execution_count": 4,
     "metadata": {},
     "output_type": "execute_result"
    }
   ],
   "source": [
    "df.describe()"
   ]
  },
  {
   "cell_type": "code",
   "execution_count": 5,
   "id": "866f6a15",
   "metadata": {
    "execution": {
     "iopub.execute_input": "2022-04-23T02:02:02.734095Z",
     "iopub.status.busy": "2022-04-23T02:02:02.733631Z",
     "iopub.status.idle": "2022-04-23T02:02:02.739520Z",
     "shell.execute_reply": "2022-04-23T02:02:02.738889Z"
    },
    "papermill": {
     "duration": 0.045863,
     "end_time": "2022-04-23T02:02:02.741617",
     "exception": false,
     "start_time": "2022-04-23T02:02:02.695754",
     "status": "completed"
    },
    "tags": []
   },
   "outputs": [
    {
     "data": {
      "text/plain": [
       "Index(['Area', 'Perimeter', 'Compactness', 'Kernel.Length', 'Kernel.Width',\n",
       "       'Asymmetry.Coeff', 'Kernel.Groove', 'Type'],\n",
       "      dtype='object')"
      ]
     },
     "execution_count": 5,
     "metadata": {},
     "output_type": "execute_result"
    }
   ],
   "source": [
    "df.columns"
   ]
  },
  {
   "cell_type": "code",
   "execution_count": 6,
   "id": "c3220ea2",
   "metadata": {
    "execution": {
     "iopub.execute_input": "2022-04-23T02:02:02.817275Z",
     "iopub.status.busy": "2022-04-23T02:02:02.816924Z",
     "iopub.status.idle": "2022-04-23T02:02:02.822054Z",
     "shell.execute_reply": "2022-04-23T02:02:02.821483Z"
    },
    "papermill": {
     "duration": 0.04522,
     "end_time": "2022-04-23T02:02:02.823824",
     "exception": false,
     "start_time": "2022-04-23T02:02:02.778604",
     "status": "completed"
    },
    "tags": []
   },
   "outputs": [
    {
     "data": {
      "text/plain": [
       "(199, 8)"
      ]
     },
     "execution_count": 6,
     "metadata": {},
     "output_type": "execute_result"
    }
   ],
   "source": [
    "df.shape"
   ]
  },
  {
   "cell_type": "code",
   "execution_count": 7,
   "id": "d3af28ec",
   "metadata": {
    "execution": {
     "iopub.execute_input": "2022-04-23T02:02:02.901202Z",
     "iopub.status.busy": "2022-04-23T02:02:02.900694Z",
     "iopub.status.idle": "2022-04-23T02:02:02.907090Z",
     "shell.execute_reply": "2022-04-23T02:02:02.906478Z"
    },
    "papermill": {
     "duration": 0.047837,
     "end_time": "2022-04-23T02:02:02.909145",
     "exception": false,
     "start_time": "2022-04-23T02:02:02.861308",
     "status": "completed"
    },
    "tags": []
   },
   "outputs": [],
   "source": [
    "# Vérifiez s'il y a des valeurs nulles\n",
    "df.isnull().values.any()\n",
    "# Supprimer les valeurs nulles\n",
    "df = df.dropna()"
   ]
  },
  {
   "cell_type": "code",
   "execution_count": 8,
   "id": "71e42ec4",
   "metadata": {
    "execution": {
     "iopub.execute_input": "2022-04-23T02:02:02.985829Z",
     "iopub.status.busy": "2022-04-23T02:02:02.985387Z",
     "iopub.status.idle": "2022-04-23T02:02:02.995273Z",
     "shell.execute_reply": "2022-04-23T02:02:02.994362Z"
    },
    "papermill": {
     "duration": 0.050822,
     "end_time": "2022-04-23T02:02:02.997252",
     "exception": false,
     "start_time": "2022-04-23T02:02:02.946430",
     "status": "completed"
    },
    "tags": []
   },
   "outputs": [
    {
     "data": {
      "text/plain": [
       "0"
      ]
     },
     "execution_count": 8,
     "metadata": {},
     "output_type": "execute_result"
    }
   ],
   "source": [
    "# Vérifier les doublons\n",
    "sum(df.duplicated())"
   ]
  },
  {
   "cell_type": "code",
   "execution_count": 9,
   "id": "69007484",
   "metadata": {
    "execution": {
     "iopub.execute_input": "2022-04-23T02:02:03.075155Z",
     "iopub.status.busy": "2022-04-23T02:02:03.074865Z",
     "iopub.status.idle": "2022-04-23T02:02:03.081116Z",
     "shell.execute_reply": "2022-04-23T02:02:03.080296Z"
    },
    "papermill": {
     "duration": 0.04749,
     "end_time": "2022-04-23T02:02:03.083409",
     "exception": false,
     "start_time": "2022-04-23T02:02:03.035919",
     "status": "completed"
    },
    "tags": []
   },
   "outputs": [
    {
     "data": {
      "text/plain": [
       "array([1, 2, 3])"
      ]
     },
     "execution_count": 9,
     "metadata": {},
     "output_type": "execute_result"
    }
   ],
   "source": [
    "df['Type'].unique()\n",
    "# c'est la classification de trois types"
   ]
  },
  {
   "cell_type": "code",
   "execution_count": 10,
   "id": "f547d944",
   "metadata": {
    "execution": {
     "iopub.execute_input": "2022-04-23T02:02:03.161146Z",
     "iopub.status.busy": "2022-04-23T02:02:03.160714Z",
     "iopub.status.idle": "2022-04-23T02:02:03.348047Z",
     "shell.execute_reply": "2022-04-23T02:02:03.347162Z"
    },
    "papermill": {
     "duration": 0.228695,
     "end_time": "2022-04-23T02:02:03.350232",
     "exception": false,
     "start_time": "2022-04-23T02:02:03.121537",
     "status": "completed"
    },
    "tags": []
   },
   "outputs": [
    {
     "data": {
      "image/png": "[encoded data removed]",
      "text/plain": [
       "<Figure size 1080x360 with 1 Axes>"
      ]
     },
     "metadata": {
      "needs_background": "light"
     },
     "output_type": "display_data"
    }
   ],
   "source": [
    "# Tracer le nombre de catégories de graines de blé\n",
    "df['Type'].value_counts().plot(kind='bar', title='Catégories de graines de blé', figsize=(15,5))\n",
    "plt.show()"
   ]
  },
  {
   "cell_type": "code",
   "execution_count": 11,
   "id": "5b90b2b5",
   "metadata": {
    "execution": {
     "iopub.execute_input": "2022-04-23T02:02:03.429849Z",
     "iopub.status.busy": "2022-04-23T02:02:03.429560Z",
     "iopub.status.idle": "2022-04-23T02:02:03.434744Z",
     "shell.execute_reply": "2022-04-23T02:02:03.433769Z"
    },
    "papermill": {
     "duration": 0.047296,
     "end_time": "2022-04-23T02:02:03.436759",
     "exception": false,
     "start_time": "2022-04-23T02:02:03.389463",
     "status": "completed"
    },
    "tags": []
   },
   "outputs": [],
   "source": [
    "X = df.iloc[:,0:7]\n",
    "y = df.iloc[:,7]"
   ]
  },
  {
   "cell_type": "code",
   "execution_count": 12,
   "id": "4de4adea",
   "metadata": {
    "execution": {
     "iopub.execute_input": "2022-04-23T02:02:03.515768Z",
     "iopub.status.busy": "2022-04-23T02:02:03.515491Z",
     "iopub.status.idle": "2022-04-23T02:02:04.000088Z",
     "shell.execute_reply": "2022-04-23T02:02:03.999260Z"
    },
    "papermill": {
     "duration": 0.526691,
     "end_time": "2022-04-23T02:02:04.002388",
     "exception": false,
     "start_time": "2022-04-23T02:02:03.475697",
     "status": "completed"
    },
    "tags": []
   },
   "outputs": [
    {
     "data": {
      "image/png": "[encoded data removed]",
      "text/plain": [
       "<Figure size 720x720 with 2 Axes>"
      ]
     },
     "metadata": {
      "needs_background": "light"
     },
     "output_type": "display_data"
    }
   ],
   "source": [
    "# Afficher la corrélation entre les fonctionnalités du jeu de données\n",
    "corr = X.corr()\n",
    "fig, ax = plt.subplots(figsize=(10,10)) \n",
    "sns.heatmap(corr, annot=True, square=True ,ax=ax)\n",
    "plt.yticks(rotation=360)\n",
    "plt.show()"
   ]
  },
  {
   "cell_type": "code",
   "execution_count": 13,
   "id": "9751c938",
   "metadata": {
    "execution": {
     "iopub.execute_input": "2022-04-23T02:02:04.086971Z",
     "iopub.status.busy": "2022-04-23T02:02:04.086400Z",
     "iopub.status.idle": "2022-04-23T02:02:04.598106Z",
     "shell.execute_reply": "2022-04-23T02:02:04.597275Z"
    },
    "papermill": {
     "duration": 0.556059,
     "end_time": "2022-04-23T02:02:04.600458",
     "exception": false,
     "start_time": "2022-04-23T02:02:04.044399",
     "status": "completed"
    },
    "tags": []
   },
   "outputs": [
    {
     "data": {
      "text/plain": [
       "<seaborn.axisgrid.FacetGrid at 0x7f8e2a188550>"
      ]
     },
     "execution_count": 13,
     "metadata": {},
     "output_type": "execute_result"
    },
    {
     "data": {
      "image/png": "[encoded data removed]",
      "text/plain": [
       "<Figure size 402.375x360 with 1 Axes>"
      ]
     },
     "metadata": {
      "needs_background": "light"
     },
     "output_type": "display_data"
    }
   ],
   "source": [
    "# Afficher la distribution des différents clusters dans notre ensemble de données\n",
    "sns.relplot(x='Compactness', y='Area', hue='Type', data=df)"
   ]
  },
  {
   "cell_type": "code",
   "execution_count": 14,
   "id": "310e159d",
   "metadata": {
    "execution": {
     "iopub.execute_input": "2022-04-23T02:02:04.688071Z",
     "iopub.status.busy": "2022-04-23T02:02:04.687297Z",
     "iopub.status.idle": "2022-04-23T02:02:04.993135Z",
     "shell.execute_reply": "2022-04-23T02:02:04.992289Z"
    },
    "papermill": {
     "duration": 0.351559,
     "end_time": "2022-04-23T02:02:04.995149",
     "exception": false,
     "start_time": "2022-04-23T02:02:04.643590",
     "status": "completed"
    },
    "tags": []
   },
   "outputs": [
    {
     "data": {
      "text/plain": [
       "<AxesSubplot:>"
      ]
     },
     "execution_count": 14,
     "metadata": {},
     "output_type": "execute_result"
    },
    {
     "data": {
      "image/png": "[encoded data removed]",
      "text/plain": [
       "<Figure size 1152x648 with 1 Axes>"
      ]
     },
     "metadata": {
      "needs_background": "light"
     },
     "output_type": "display_data"
    }
   ],
   "source": [
    "# Vérifier les valeurs aberrantes de l'ensemble de données\n",
    "X.boxplot(figsize=(16,9))"
   ]
  },
  {
   "cell_type": "code",
   "execution_count": 15,
   "id": "ed7f5c01",
   "metadata": {
    "execution": {
     "iopub.execute_input": "2022-04-23T02:02:05.087421Z",
     "iopub.status.busy": "2022-04-23T02:02:05.087092Z",
     "iopub.status.idle": "2022-04-23T02:02:05.093386Z",
     "shell.execute_reply": "2022-04-23T02:02:05.092468Z"
    },
    "papermill": {
     "duration": 0.055127,
     "end_time": "2022-04-23T02:02:05.095324",
     "exception": false,
     "start_time": "2022-04-23T02:02:05.040197",
     "status": "completed"
    },
    "tags": []
   },
   "outputs": [],
   "source": [
    "# Fractionnement de l'ensemble de données en train et test à l'aide de train_test_split\n",
    "x_train , x_test , y_train , y_test = train_test_split(X, y, random_state=50, test_size = 0.25)"
   ]
  },
  {
   "cell_type": "markdown",
   "id": "0e639470",
   "metadata": {
    "papermill": {
     "duration": 0.043483,
     "end_time": "2022-04-23T02:02:05.182774",
     "exception": false,
     "start_time": "2022-04-23T02:02:05.139291",
     "status": "completed"
    },
    "tags": []
   },
   "source": [
    "# **Random forest classification**"
   ]
  },
  {
   "cell_type": "code",
   "execution_count": 16,
   "id": "fc100be3",
   "metadata": {
    "execution": {
     "iopub.execute_input": "2022-04-23T02:02:05.271679Z",
     "iopub.status.busy": "2022-04-23T02:02:05.270807Z",
     "iopub.status.idle": "2022-04-23T02:02:05.458560Z",
     "shell.execute_reply": "2022-04-23T02:02:05.457702Z"
    },
    "papermill": {
     "duration": 0.234789,
     "end_time": "2022-04-23T02:02:05.460957",
     "exception": false,
     "start_time": "2022-04-23T02:02:05.226168",
     "status": "completed"
    },
    "tags": []
   },
   "outputs": [],
   "source": [
    "clf = RandomForestClassifier()\n",
    "clf.fit(x_train, y_train)\n",
    "y_hat = clf.predict(x_test)"
   ]
  },
  {
   "cell_type": "code",
   "execution_count": 17,
   "id": "4c64014c",
   "metadata": {
    "execution": {
     "iopub.execute_input": "2022-04-23T02:02:05.550683Z",
     "iopub.status.busy": "2022-04-23T02:02:05.550100Z",
     "iopub.status.idle": "2022-04-23T02:02:05.558707Z",
     "shell.execute_reply": "2022-04-23T02:02:05.558156Z"
    },
    "papermill": {
     "duration": 0.055629,
     "end_time": "2022-04-23T02:02:05.560508",
     "exception": false,
     "start_time": "2022-04-23T02:02:05.504879",
     "status": "completed"
    },
    "tags": []
   },
   "outputs": [
    {
     "data": {
      "text/plain": [
       "array([[15,  0,  5],\n",
       "       [ 0, 15,  0],\n",
       "       [ 0,  0, 15]])"
      ]
     },
     "execution_count": 17,
     "metadata": {},
     "output_type": "execute_result"
    }
   ],
   "source": [
    "confusion_matrix(y_hat, y_test)"
   ]
  },
  {
   "cell_type": "code",
   "execution_count": 18,
   "id": "1a5730aa",
   "metadata": {
    "execution": {
     "iopub.execute_input": "2022-04-23T02:02:05.651319Z",
     "iopub.status.busy": "2022-04-23T02:02:05.650385Z",
     "iopub.status.idle": "2022-04-23T02:02:05.657113Z",
     "shell.execute_reply": "2022-04-23T02:02:05.656297Z"
    },
    "papermill": {
     "duration": 0.054893,
     "end_time": "2022-04-23T02:02:05.659283",
     "exception": false,
     "start_time": "2022-04-23T02:02:05.604390",
     "status": "completed"
    },
    "tags": []
   },
   "outputs": [
    {
     "data": {
      "text/plain": [
       "0.9"
      ]
     },
     "execution_count": 18,
     "metadata": {},
     "output_type": "execute_result"
    }
   ],
   "source": [
    "accuracy_score(y_hat, y_test)"
   ]
  },
  {
   "cell_type": "code",
   "execution_count": 19,
   "id": "2adbb5f7",
   "metadata": {
    "execution": {
     "iopub.execute_input": "2022-04-23T02:02:05.750489Z",
     "iopub.status.busy": "2022-04-23T02:02:05.749907Z",
     "iopub.status.idle": "2022-04-23T02:02:05.760190Z",
     "shell.execute_reply": "2022-04-23T02:02:05.759342Z"
    },
    "papermill": {
     "duration": 0.060251,
     "end_time": "2022-04-23T02:02:05.763889",
     "exception": false,
     "start_time": "2022-04-23T02:02:05.703638",
     "status": "completed"
    },
    "tags": []
   },
   "outputs": [
    {
     "name": "stdout",
     "output_type": "stream",
     "text": [
      "              precision    recall  f1-score   support\n",
      "\n",
      "           1       0.75      1.00      0.86        15\n",
      "           2       1.00      1.00      1.00        15\n",
      "           3       1.00      0.75      0.86        20\n",
      "\n",
      "    accuracy                           0.90        50\n",
      "   macro avg       0.92      0.92      0.90        50\n",
      "weighted avg       0.93      0.90      0.90        50\n",
      "\n"
     ]
    }
   ],
   "source": [
    "print(classification_report(y_test, y_hat))"
   ]
  },
  {
   "cell_type": "code",
   "execution_count": 20,
   "id": "017058c3",
   "metadata": {
    "execution": {
     "iopub.execute_input": "2022-04-23T02:02:05.858966Z",
     "iopub.status.busy": "2022-04-23T02:02:05.857078Z",
     "iopub.status.idle": "2022-04-23T02:02:06.095944Z",
     "shell.execute_reply": "2022-04-23T02:02:06.094999Z"
    },
    "papermill": {
     "duration": 0.288054,
     "end_time": "2022-04-23T02:02:06.098095",
     "exception": false,
     "start_time": "2022-04-23T02:02:05.810041",
     "status": "completed"
    },
    "tags": []
   },
   "outputs": [
    {
     "data": {
      "text/plain": [
       "Text(0.5, 1.0, 'Importances des carcteres')"
      ]
     },
     "execution_count": 20,
     "metadata": {},
     "output_type": "execute_result"
    },
    {
     "data": {
      "image/png": "[encoded data removed]",
      "text/plain": [
       "<Figure size 432x288 with 1 Axes>"
      ]
     },
     "metadata": {
      "needs_background": "light"
     },
     "output_type": "display_data"
    }
   ],
   "source": [
    "importances = clf.feature_importances_\n",
    "indices = np.argsort(clf.feature_importances_)\n",
    "plt.barh(range(len(indices)), importances[indices])\n",
    "plt.yticks(range(len(indices)), x_train.columns[indices])\n",
    "plt.title(\"Importances des carcteres\")"
   ]
  },
  {
   "cell_type": "markdown",
   "id": "17bac134",
   "metadata": {
    "papermill": {
     "duration": 0.045968,
     "end_time": "2022-04-23T02:02:06.190415",
     "exception": false,
     "start_time": "2022-04-23T02:02:06.144447",
     "status": "completed"
    },
    "tags": []
   },
   "source": [
    "# **Gradient Boosting classification**"
   ]
  },
  {
   "cell_type": "code",
   "execution_count": 21,
   "id": "68fd8cbd",
   "metadata": {
    "execution": {
     "iopub.execute_input": "2022-04-23T02:02:06.284717Z",
     "iopub.status.busy": "2022-04-23T02:02:06.284450Z",
     "iopub.status.idle": "2022-04-23T02:02:06.591945Z",
     "shell.execute_reply": "2022-04-23T02:02:06.591015Z"
    },
    "papermill": {
     "duration": 0.358265,
     "end_time": "2022-04-23T02:02:06.594422",
     "exception": false,
     "start_time": "2022-04-23T02:02:06.236157",
     "status": "completed"
    },
    "tags": []
   },
   "outputs": [],
   "source": [
    "clf = GradientBoostingClassifier()\n",
    "clf.fit(x_train, y_train)\n",
    "y_hat = clf.predict(x_test)"
   ]
  },
  {
   "cell_type": "code",
   "execution_count": 22,
   "id": "a6ab8ef5",
   "metadata": {
    "execution": {
     "iopub.execute_input": "2022-04-23T02:02:06.689998Z",
     "iopub.status.busy": "2022-04-23T02:02:06.689391Z",
     "iopub.status.idle": "2022-04-23T02:02:06.696584Z",
     "shell.execute_reply": "2022-04-23T02:02:06.695730Z"
    },
    "papermill": {
     "duration": 0.057389,
     "end_time": "2022-04-23T02:02:06.698684",
     "exception": false,
     "start_time": "2022-04-23T02:02:06.641295",
     "status": "completed"
    },
    "tags": []
   },
   "outputs": [
    {
     "data": {
      "text/plain": [
       "array([[15,  0,  4],\n",
       "       [ 0, 15,  0],\n",
       "       [ 0,  0, 16]])"
      ]
     },
     "execution_count": 22,
     "metadata": {},
     "output_type": "execute_result"
    }
   ],
   "source": [
    "confusion_matrix(y_hat, y_test)"
   ]
  },
  {
   "cell_type": "code",
   "execution_count": 23,
   "id": "c9c7fc08",
   "metadata": {
    "execution": {
     "iopub.execute_input": "2022-04-23T02:02:06.794819Z",
     "iopub.status.busy": "2022-04-23T02:02:06.793939Z",
     "iopub.status.idle": "2022-04-23T02:02:06.801854Z",
     "shell.execute_reply": "2022-04-23T02:02:06.800683Z"
    },
    "papermill": {
     "duration": 0.058342,
     "end_time": "2022-04-23T02:02:06.804120",
     "exception": false,
     "start_time": "2022-04-23T02:02:06.745778",
     "status": "completed"
    },
    "tags": []
   },
   "outputs": [
    {
     "data": {
      "text/plain": [
       "0.92"
      ]
     },
     "execution_count": 23,
     "metadata": {},
     "output_type": "execute_result"
    }
   ],
   "source": [
    "accuracy_score(y_hat, y_test)"
   ]
  },
  {
   "cell_type": "code",
   "execution_count": 24,
   "id": "e5340317",
   "metadata": {
    "execution": {
     "iopub.execute_input": "2022-04-23T02:02:06.911236Z",
     "iopub.status.busy": "2022-04-23T02:02:06.910894Z",
     "iopub.status.idle": "2022-04-23T02:02:06.919966Z",
     "shell.execute_reply": "2022-04-23T02:02:06.919312Z"
    },
    "papermill": {
     "duration": 0.070639,
     "end_time": "2022-04-23T02:02:06.922192",
     "exception": false,
     "start_time": "2022-04-23T02:02:06.851553",
     "status": "completed"
    },
    "tags": []
   },
   "outputs": [
    {
     "name": "stdout",
     "output_type": "stream",
     "text": [
      "              precision    recall  f1-score   support\n",
      "\n",
      "           1       0.79      1.00      0.88        15\n",
      "           2       1.00      1.00      1.00        15\n",
      "           3       1.00      0.80      0.89        20\n",
      "\n",
      "    accuracy                           0.92        50\n",
      "   macro avg       0.93      0.93      0.92        50\n",
      "weighted avg       0.94      0.92      0.92        50\n",
      "\n"
     ]
    }
   ],
   "source": [
    "print(classification_report(y_test, y_hat))"
   ]
  },
  {
   "cell_type": "markdown",
   "id": "3d75573b",
   "metadata": {
    "papermill": {
     "duration": 0.047889,
     "end_time": "2022-04-23T02:02:07.018063",
     "exception": false,
     "start_time": "2022-04-23T02:02:06.970174",
     "status": "completed"
    },
    "tags": []
   },
   "source": [
    "# **SVM**"
   ]
  },
  {
   "cell_type": "code",
   "execution_count": 25,
   "id": "a45efcd0",
   "metadata": {
    "execution": {
     "iopub.execute_input": "2022-04-23T02:02:07.130948Z",
     "iopub.status.busy": "2022-04-23T02:02:07.130407Z",
     "iopub.status.idle": "2022-04-23T02:02:07.139340Z",
     "shell.execute_reply": "2022-04-23T02:02:07.138750Z"
    },
    "papermill": {
     "duration": 0.071218,
     "end_time": "2022-04-23T02:02:07.141381",
     "exception": false,
     "start_time": "2022-04-23T02:02:07.070163",
     "status": "completed"
    },
    "tags": []
   },
   "outputs": [],
   "source": [
    "clf = SVC()\n",
    "clf.fit(x_train, y_train)\n",
    "y_hat = clf.predict(x_test)"
   ]
  },
  {
   "cell_type": "code",
   "execution_count": 26,
   "id": "5aa00cf4",
   "metadata": {
    "execution": {
     "iopub.execute_input": "2022-04-23T02:02:07.239115Z",
     "iopub.status.busy": "2022-04-23T02:02:07.238582Z",
     "iopub.status.idle": "2022-04-23T02:02:07.244745Z",
     "shell.execute_reply": "2022-04-23T02:02:07.244231Z"
    },
    "papermill": {
     "duration": 0.057024,
     "end_time": "2022-04-23T02:02:07.246514",
     "exception": false,
     "start_time": "2022-04-23T02:02:07.189490",
     "status": "completed"
    },
    "tags": []
   },
   "outputs": [
    {
     "data": {
      "text/plain": [
       "array([[15,  0,  1],\n",
       "       [ 0, 15,  0],\n",
       "       [ 0,  0, 19]])"
      ]
     },
     "execution_count": 26,
     "metadata": {},
     "output_type": "execute_result"
    }
   ],
   "source": [
    "confusion_matrix(y_hat, y_test)"
   ]
  },
  {
   "cell_type": "code",
   "execution_count": 27,
   "id": "a8e22f29",
   "metadata": {
    "execution": {
     "iopub.execute_input": "2022-04-23T02:02:07.343170Z",
     "iopub.status.busy": "2022-04-23T02:02:07.342623Z",
     "iopub.status.idle": "2022-04-23T02:02:07.347948Z",
     "shell.execute_reply": "2022-04-23T02:02:07.347378Z"
    },
    "papermill": {
     "duration": 0.055627,
     "end_time": "2022-04-23T02:02:07.349668",
     "exception": false,
     "start_time": "2022-04-23T02:02:07.294041",
     "status": "completed"
    },
    "tags": []
   },
   "outputs": [
    {
     "data": {
      "text/plain": [
       "0.98"
      ]
     },
     "execution_count": 27,
     "metadata": {},
     "output_type": "execute_result"
    }
   ],
   "source": [
    "accuracy_score(y_hat, y_test)"
   ]
  },
  {
   "cell_type": "code",
   "execution_count": 28,
   "id": "2c2772f6",
   "metadata": {
    "execution": {
     "iopub.execute_input": "2022-04-23T02:02:07.447738Z",
     "iopub.status.busy": "2022-04-23T02:02:07.447210Z",
     "iopub.status.idle": "2022-04-23T02:02:07.455912Z",
     "shell.execute_reply": "2022-04-23T02:02:07.454880Z"
    },
    "papermill": {
     "duration": 0.060533,
     "end_time": "2022-04-23T02:02:07.458229",
     "exception": false,
     "start_time": "2022-04-23T02:02:07.397696",
     "status": "completed"
    },
    "tags": []
   },
   "outputs": [
    {
     "name": "stdout",
     "output_type": "stream",
     "text": [
      "              precision    recall  f1-score   support\n",
      "\n",
      "           1       0.94      1.00      0.97        15\n",
      "           2       1.00      1.00      1.00        15\n",
      "           3       1.00      0.95      0.97        20\n",
      "\n",
      "    accuracy                           0.98        50\n",
      "   macro avg       0.98      0.98      0.98        50\n",
      "weighted avg       0.98      0.98      0.98        50\n",
      "\n"
     ]
    }
   ],
   "source": [
    "print(classification_report(y_test, y_hat))"
   ]
  },
  {
   "cell_type": "markdown",
   "id": "fb9ecccf",
   "metadata": {
    "papermill": {
     "duration": 0.051968,
     "end_time": "2022-04-23T02:02:07.560957",
     "exception": false,
     "start_time": "2022-04-23T02:02:07.508989",
     "status": "completed"
    },
    "tags": []
   },
   "source": [
    "# **decision tree classification**"
   ]
  },
  {
   "cell_type": "code",
   "execution_count": 29,
   "id": "20c9a349",
   "metadata": {
    "execution": {
     "iopub.execute_input": "2022-04-23T02:02:07.661354Z",
     "iopub.status.busy": "2022-04-23T02:02:07.660775Z",
     "iopub.status.idle": "2022-04-23T02:02:07.668851Z",
     "shell.execute_reply": "2022-04-23T02:02:07.668143Z"
    },
    "papermill": {
     "duration": 0.061212,
     "end_time": "2022-04-23T02:02:07.670991",
     "exception": false,
     "start_time": "2022-04-23T02:02:07.609779",
     "status": "completed"
    },
    "tags": []
   },
   "outputs": [],
   "source": [
    "clf = DecisionTreeClassifier(max_depth=6)\n",
    "clf.fit(x_train, y_train)\n",
    "y_hat = clf.predict(x_test)"
   ]
  },
  {
   "cell_type": "code",
   "execution_count": 30,
   "id": "3989ddf5",
   "metadata": {
    "execution": {
     "iopub.execute_input": "2022-04-23T02:02:07.769854Z",
     "iopub.status.busy": "2022-04-23T02:02:07.769299Z",
     "iopub.status.idle": "2022-04-23T02:02:07.775750Z",
     "shell.execute_reply": "2022-04-23T02:02:07.774829Z"
    },
    "papermill": {
     "duration": 0.057924,
     "end_time": "2022-04-23T02:02:07.777710",
     "exception": false,
     "start_time": "2022-04-23T02:02:07.719786",
     "status": "completed"
    },
    "tags": []
   },
   "outputs": [
    {
     "data": {
      "text/plain": [
       "array([[15,  0,  4],\n",
       "       [ 0, 15,  0],\n",
       "       [ 0,  0, 16]])"
      ]
     },
     "execution_count": 30,
     "metadata": {},
     "output_type": "execute_result"
    }
   ],
   "source": [
    "confusion_matrix(y_hat, y_test)"
   ]
  },
  {
   "cell_type": "code",
   "execution_count": 31,
   "id": "134f69d8",
   "metadata": {
    "execution": {
     "iopub.execute_input": "2022-04-23T02:02:07.879496Z",
     "iopub.status.busy": "2022-04-23T02:02:07.879195Z",
     "iopub.status.idle": "2022-04-23T02:02:07.885839Z",
     "shell.execute_reply": "2022-04-23T02:02:07.884882Z"
    },
    "papermill": {
     "duration": 0.060908,
     "end_time": "2022-04-23T02:02:07.888084",
     "exception": false,
     "start_time": "2022-04-23T02:02:07.827176",
     "status": "completed"
    },
    "tags": []
   },
   "outputs": [
    {
     "data": {
      "text/plain": [
       "0.92"
      ]
     },
     "execution_count": 31,
     "metadata": {},
     "output_type": "execute_result"
    }
   ],
   "source": [
    "accuracy_score(y_hat, y_test)"
   ]
  },
  {
   "cell_type": "code",
   "execution_count": 32,
   "id": "402834b4",
   "metadata": {
    "execution": {
     "iopub.execute_input": "2022-04-23T02:02:07.991108Z",
     "iopub.status.busy": "2022-04-23T02:02:07.990573Z",
     "iopub.status.idle": "2022-04-23T02:02:07.998624Z",
     "shell.execute_reply": "2022-04-23T02:02:07.998018Z"
    },
    "papermill": {
     "duration": 0.061773,
     "end_time": "2022-04-23T02:02:08.001357",
     "exception": false,
     "start_time": "2022-04-23T02:02:07.939584",
     "status": "completed"
    },
    "tags": []
   },
   "outputs": [
    {
     "name": "stdout",
     "output_type": "stream",
     "text": [
      "              precision    recall  f1-score   support\n",
      "\n",
      "           1       0.79      1.00      0.88        15\n",
      "           2       1.00      1.00      1.00        15\n",
      "           3       1.00      0.80      0.89        20\n",
      "\n",
      "    accuracy                           0.92        50\n",
      "   macro avg       0.93      0.93      0.92        50\n",
      "weighted avg       0.94      0.92      0.92        50\n",
      "\n"
     ]
    }
   ],
   "source": [
    "print(classification_report(y_test, y_hat))"
   ]
  },
  {
   "cell_type": "code",
   "execution_count": 33,
   "id": "b146cbda",
   "metadata": {
    "execution": {
     "iopub.execute_input": "2022-04-23T02:02:08.108780Z",
     "iopub.status.busy": "2022-04-23T02:02:08.108167Z",
     "iopub.status.idle": "2022-04-23T02:02:08.113128Z",
     "shell.execute_reply": "2022-04-23T02:02:08.112555Z"
    },
    "papermill": {
     "duration": 0.05821,
     "end_time": "2022-04-23T02:02:08.115171",
     "exception": false,
     "start_time": "2022-04-23T02:02:08.056961",
     "status": "completed"
    },
    "tags": []
   },
   "outputs": [
    {
     "data": {
      "text/plain": [
       "'\\nprécision comparaison\\nRF -> 0.88\\nGB -> 0.92\\nSVM-> 0.98\\nDT -> 0.92\\n'"
      ]
     },
     "execution_count": 33,
     "metadata": {},
     "output_type": "execute_result"
    }
   ],
   "source": [
    "'''\n",
    "précision comparaison\n",
    "RF -> 0.88\n",
    "GB -> 0.92\n",
    "SVM-> 0.98\n",
    "DT -> 0.92\n",
    "'''\n"
   ]
  }
 ],
 "metadata": {
  "kernelspec": {
   "display_name": "Python 3",
   "language": "python",
   "name": "python3"
  },
  "language_info": {
   "codemirror_mode": {
    "name": "ipython",
    "version": 3
   },
   "file_extension": ".py",
   "mimetype": "text/x-python",
   "name": "python",
   "nbconvert_exporter": "python",
   "pygments_lexer": "ipython3",
   "version": "3.7.12"
  },
  "papermill": {
   "default_parameters": {},
   "duration": 18.360111,
   "end_time": "2022-04-23T02:02:08.986777",
   "environment_variables": {},
   "exception": null,
   "input_path": "__notebook__.ipynb",
   "output_path": "__notebook__.ipynb",
   "parameters": {},
   "start_time": "2022-04-23T02:01:50.626666",
   "version": "2.3.4"
  }
 },
 "nbformat": 4,
 "nbformat_minor": 5
}
